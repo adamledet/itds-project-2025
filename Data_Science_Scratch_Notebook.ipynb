{
  "nbformat": 4,
  "nbformat_minor": 0,
  "metadata": {
    "colab": {
      "provenance": []
    },
    "kernelspec": {
      "name": "python3",
      "display_name": "Python 3"
    },
    "language_info": {
      "name": "python"
    }
  },
  "cells": [
    {
      "cell_type": "markdown",
      "source": [
        "Prior to running the below cell, upload the desired 'index' file using Google Colab. Running the command then creates a new HTML file which can be downloaded and used for the github website."
      ],
      "metadata": {
        "id": "ZAIYm3T4tJs-"
      }
    },
    {
      "cell_type": "code",
      "execution_count": null,
      "metadata": {
        "id": "HhAQAGZNtDfy"
      },
      "outputs": [],
      "source": [
        "# Command to convert ipynb to HTML\n",
        "%%shell\n",
        "jupyter nbconvert --to html /content/index.ipynb"
      ]
    }
  ]
}